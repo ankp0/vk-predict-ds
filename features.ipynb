{
 "cells": [
  {
   "cell_type": "code",
   "execution_count": 2,
   "metadata": {},
   "outputs": [],
   "source": [
    "import numpy as np\n",
    "import pandas as pd"
   ]
  },
  {
   "cell_type": "code",
   "execution_count": 3,
   "metadata": {},
   "outputs": [],
   "source": [
    "features = pd.read_csv('features.csv')\n",
    "train = pd.read_csv('train.csv')"
   ]
  },
  {
   "cell_type": "markdown",
   "metadata": {},
   "source": [
    "## Соединение трейна с дополнительными признаками:"
   ]
  },
  {
   "cell_type": "markdown",
   "metadata": {},
   "source": [
    "**(пропусков всего ~160 из >3000 объектов, поэтому их было решено просто дропнуть)**"
   ]
  },
  {
   "cell_type": "code",
   "execution_count": 5,
   "metadata": {},
   "outputs": [],
   "source": [
    "dct = {i : np.nan for i in range(363)}\n",
    "train = train.join(pd.DataFrame(dct, index=train.index))"
   ]
  },
  {
   "cell_type": "code",
   "execution_count": 6,
   "metadata": {},
   "outputs": [],
   "source": [
    "new_train = train.copy()\n",
    "for i in range(train.shape[0]):\n",
    "    for j in range(features.shape[0]):\n",
    "        if str(train.loc[i,'lat'])[:6] == str(features.loc[j, 'lat'])[:6] or str(train.loc[i, 'lon'])[:6] == str(features.loc[j, 'lon'])[:6]:\n",
    "            new_train.iloc[i, 4:] = features.iloc[j, 2:]\n",
    "new_train = new_train.dropna()"
   ]
  },
  {
   "cell_type": "code",
   "execution_count": null,
   "metadata": {},
   "outputs": [],
   "source": [
    "new_train.to_csv()"
   ]
  }
 ],
 "metadata": {
  "kernelspec": {
   "display_name": "ml-2",
   "language": "python",
   "name": "python3"
  },
  "language_info": {
   "codemirror_mode": {
    "name": "ipython",
    "version": 3
   },
   "file_extension": ".py",
   "mimetype": "text/x-python",
   "name": "python",
   "nbconvert_exporter": "python",
   "pygments_lexer": "ipython3",
   "version": "3.10.13"
  }
 },
 "nbformat": 4,
 "nbformat_minor": 2
}
